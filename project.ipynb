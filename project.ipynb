{
 "cells": [
  {
   "cell_type": "code",
   "execution_count": 63,
   "metadata": {},
   "outputs": [],
   "source": [
    "%matplotlib inline\n",
    "import matplotlib.pyplot as plt\n",
    "import numpy as np\n",
    "import pandas as pd\n",
    "from sklearn.decomposition import PCA\n",
    "from sklearn.model_selection import KFold\n",
    "import statsmodels.formula.api as smf"
   ]
  },
  {
   "cell_type": "code",
   "execution_count": 79,
   "metadata": {},
   "outputs": [],
   "source": [
    "data = pd.read_csv(\"https://raw.githubusercontent.com/fivethirtyeight/data/master/masculinity-survey/masculinity-survey.csv\")\n",
    "\n",
    "one_hot = pd.read_csv(\"one-hot-responses.csv\")\n",
    "# Very masculine, Somewhat masculine, Not very masculine, Not at all masculine\n",
    "masculinity_scale = [col for col in one_hot.columns if col.startswith('q0001')]\n",
    "# Straight, Gay, Bisexual, Other\n",
    "sexuality_scale = [col for col in one_hot.columns if col.startswith('q0026')]\n",
    "# print(masculinity_scale)\n",
    "# print(sexuality_scale)\n",
    "\n",
    "predictors = [one_hot.columns[i] for i in range(7, len(one_hot.columns))]\n",
    "X = one_hot[predictors].values.T\n",
    "n_i, n_j = X.shape\n",
    "stds = np.std(X, axis=1)\n",
    "stds = np.repeat(np.reshape(stds, (-1,1)), n_j, axis=1)\n",
    "S = X/stds\n",
    "pcs = PCA(n_components=20).fit_transform(S.T)"
   ]
  },
  {
   "cell_type": "code",
   "execution_count": null,
   "metadata": {},
   "outputs": [],
   "source": []
  }
 ],
 "metadata": {
  "kernelspec": {
   "display_name": "Python 3",
   "language": "python",
   "name": "python3"
  },
  "language_info": {
   "codemirror_mode": {
    "name": "ipython",
    "version": 3
   },
   "file_extension": ".py",
   "mimetype": "text/x-python",
   "name": "python",
   "nbconvert_exporter": "python",
   "pygments_lexer": "ipython3",
   "version": "3.6.4"
  },
  "toc": {
   "base_numbering": 1,
   "nav_menu": {},
   "number_sections": true,
   "sideBar": true,
   "skip_h1_title": false,
   "title_cell": "Table of Contents",
   "title_sidebar": "Contents",
   "toc_cell": false,
   "toc_position": {},
   "toc_section_display": true,
   "toc_window_display": false
  }
 },
 "nbformat": 4,
 "nbformat_minor": 2
}
